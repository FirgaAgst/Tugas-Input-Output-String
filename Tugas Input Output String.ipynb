{
 "cells": [
  {
   "cell_type": "markdown",
   "id": "2377f7e6-3c19-4927-92ab-464331a3f499",
   "metadata": {},
   "source": [
    "<h3>Tugas input output</h3>"
   ]
  },
  {
   "cell_type": "code",
   "execution_count": 3,
   "id": "f273cc96-2f08-440b-b346-010d287d9b81",
   "metadata": {},
   "outputs": [
    {
     "name": "stdin",
     "output_type": "stream",
     "text": [
      "masukan nama:  Firga Agustian\n",
      "tanggal lahir:  13/Agustus/2004\n",
      "jenis kelamin:  laki-laki\n",
      "alamat:  jl.siliwangi\n"
     ]
    },
    {
     "name": "stdout",
     "output_type": "stream",
     "text": [
      "Nama:Firga Agustian  tgl_lahir:13/Agustus/2004  jenis_kelamin:laki-laki  alamat:jl.siliwangi\n"
     ]
    }
   ],
   "source": [
    "nama = input(\"masukan nama: \")\n",
    "tgl_lahir = input(\"tanggal lahir: \")\n",
    "jenis_kelamin = input(\"jenis kelamin: \")\n",
    "alamat = input(\"alamat: \")\n",
    "\n",
    "#output\n",
    "biodata =\"Nama:{}  tgl_lahir:{}  jenis_kelamin:{}  alamat:{}\".format(nama,tgl_lahir,jenis_kelamin,alamat)\n",
    "print(\"output:\")\n",
    "print(biodata)\n"
   ]
  },
  {
   "cell_type": "code",
   "execution_count": 7,
   "id": "20365c80-b403-4632-b751-12c663f61f33",
   "metadata": {},
   "outputs": [
    {
     "name": "stdout",
     "output_type": "stream",
     "text": [
      "putra nusa \n",
      "NIVERSITAS NSA PTRA SKABUMI\n",
      "SUKABUMI PUTRA NUSA UNIVERSITAS \n",
      "UNPS\n",
      "TAS SAPU BUMI\n"
     ]
    }
   ],
   "source": [
    "univ =\"UNIVERSITAS NUSA PUTRA SUKABUMI\"\n",
    "kalimat1 =univ.lower()\n",
    "print(kalimat1[17:22],kalimat1[12:17])\n",
    "kalimat2 = univ.upper()\n",
    "print(kalimat2[1:11],kalimat2[12]+kalimat2[14:16],kalimat2[17]+kalimat2[19:22],kalimat2[23]+kalimat2[25:31])\n",
    "kalimat3 = univ.upper()\n",
    "print(kalimat3[23:31],kalimat3[17:22],kalimat3[12:16],univ[0:12])\n",
    "kalimat4 = univ.upper()\n",
    "print(kalimat3[0]+kalimat3[12]+kalimat3[17]+kalimat3[23])\n",
    "kalimat4 = univ.upper()\n",
    "print(kalimat4[8:11],kalimat4[14:16]+kalimat4[17:19],kalimat4[27:])"
   ]
  },
  {
   "cell_type": "code",
   "execution_count": null,
   "id": "e4c65d36-81b6-4903-afc9-c8962e445b36",
   "metadata": {},
   "outputs": [],
   "source": []
  }
 ],
 "metadata": {
  "kernelspec": {
   "display_name": "Python 3 (ipykernel)",
   "language": "python",
   "name": "python3"
  },
  "language_info": {
   "codemirror_mode": {
    "name": "ipython",
    "version": 3
   },
   "file_extension": ".py",
   "mimetype": "text/x-python",
   "name": "python",
   "nbconvert_exporter": "python",
   "pygments_lexer": "ipython3",
   "version": "3.11.7"
  }
 },
 "nbformat": 4,
 "nbformat_minor": 5
}
